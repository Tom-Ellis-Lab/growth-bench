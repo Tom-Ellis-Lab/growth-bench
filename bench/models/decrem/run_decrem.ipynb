{
 "cells": [
  {
   "cell_type": "code",
   "execution_count": 1,
   "metadata": {},
   "outputs": [],
   "source": [
    "import multiprocessing\n",
    "import os\n",
    "import sys\n",
    "from typing import Union\n",
    "\n",
    "import cobra\n",
    "import scipy\n",
    "import tqdm\n",
    "import numpy as np\n",
    "import pandas as pd\n",
    "\n",
    "sys.path.append(\"../../../\")\n",
    "\n",
    "from temp_tools import matlab_model_gateway\n",
    "from bench.models.decrem import decrem_gateway"
   ]
  },
  {
   "cell_type": "code",
   "execution_count": 2,
   "metadata": {},
   "outputs": [
    {
     "name": "stderr",
     "output_type": "stream",
     "text": [
      "Decrem loading: No defined compartments in model linear_model. Compartments will be deduced heuristically using regular expressions.\n",
      "Decrem loading: Using regular expression found the following compartments:c, e, g, m, n, r, v, x\n"
     ]
    }
   ],
   "source": [
    "\n",
    "# MODEL_PATH = \"data/models/decrem/Yeast_linear_model.mat\"\n",
    "MODEL_PATH = \"../../../data/models/decrem/Yeast_linear_model.mat\"\n",
    "model = decrem_gateway.load_matlab_model(MODEL_PATH)"
   ]
  },
  {
   "cell_type": "code",
   "execution_count": 3,
   "metadata": {},
   "outputs": [
    {
     "name": "stdout",
     "output_type": "stream",
     "text": [
      "linear_model\n",
      "Reactions 1596\n",
      "Metabolites 1138\n",
      "Genes 905\n",
      "Variables 3192\n",
      "Constraints 1138\n",
      "Maximize\n",
      "1.0*BIOMASS_SC5_notrace - 1.0*BIOMASS_SC5_notrace_reverse_93090\n",
      "Biomass SC5 notrace\n"
     ]
    }
   ],
   "source": [
    "# cobra model, print number of reactions, metabolites, genes, variables, constraints\n",
    "print(model)\n",
    "print(\"Reactions\", len(model.reactions))\n",
    "print(\"Metabolites\", len(model.metabolites))\n",
    "print(\"Genes\", len(model.genes))\n",
    "print(\"Variables\", len(model.variables))\n",
    "print(\"Constraints\", len(model.constraints))\n",
    "\n",
    "print(model.objective)\n",
    "reaction = model.reactions.get_by_id(\"BIOMASS_SC5_notrace\")\n",
    "print(reaction.name)"
   ]
  },
  {
   "cell_type": "code",
   "execution_count": 4,
   "metadata": {},
   "outputs": [],
   "source": [
    "solution = model.optimize()"
   ]
  },
  {
   "cell_type": "code",
   "execution_count": 17,
   "metadata": {},
   "outputs": [
    {
     "name": "stdout",
     "output_type": "stream",
     "text": [
      "Biomass SC5 notrace\n"
     ]
    }
   ],
   "source": [
    "fluxes = solution.fluxes\n",
    "# print(fluxes)\n",
    "# for flux in fluxes:\n",
    "#     if flux !=0:\n",
    "#         print(\"This one is not zero\", flux)\n",
    "\n",
    "# for rxn in model.reactions:\n",
    "#     print(rxn.name)\n",
    "\n",
    "biomass_rxn = model.reactions.BIOMASS_SC5_notrace\n",
    "print(biomass_rxn.name)"
   ]
  }
 ],
 "metadata": {
  "kernelspec": {
   "display_name": "etfl",
   "language": "python",
   "name": "python3"
  },
  "language_info": {
   "codemirror_mode": {
    "name": "ipython",
    "version": 3
   },
   "file_extension": ".py",
   "mimetype": "text/x-python",
   "name": "python",
   "nbconvert_exporter": "python",
   "pygments_lexer": "ipython3",
   "version": "3.10.2"
  }
 },
 "nbformat": 4,
 "nbformat_minor": 2
}
