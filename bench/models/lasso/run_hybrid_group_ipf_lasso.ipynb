{
 "cells": [
  {
   "cell_type": "code",
   "execution_count": 1,
   "metadata": {},
   "outputs": [],
   "source": [
    "import csv\n",
    "import itertools\n",
    "import multiprocessing\n",
    "import sys\n",
    "import time\n",
    "\n",
    "import numpy as np\n",
    "\n",
    "import optimiser\n",
    "\n",
    "sys.path.append('../moma')\n",
    "import moma_data_gateway\n"
   ]
  },
  {
   "cell_type": "code",
   "execution_count": 2,
   "metadata": {},
   "outputs": [
    {
     "name": "stdout",
     "output_type": "stream",
     "text": [
      "Success in loading complete data\n",
      "Shape of the complete data: (1143, 9666)\n",
      "Success in loading gene expression data\n",
      "Shape of the gene expression data: (1143, 6171)\n"
     ]
    }
   ],
   "source": [
    "DATA_DIR = \"../../../data/models/moma/\"\n",
    "\n",
    "testing_data_indices_file_path = DATA_DIR + \"indices_for_testing_data.csv\"\n",
    "complete_data_file_path = DATA_DIR + \"complete_dataset.RDS\"\n",
    "gene_expression_data_file_path = DATA_DIR + \"gene_expression_dataset.RDS\"\n",
    "\n",
    "preprocessed_data: moma_data_gateway.MomaDataclass = moma_data_gateway.get_preprocessed_data(\n",
    "    testing_data_indices_file_path=testing_data_indices_file_path, \n",
    "    complete_data_file_path=complete_data_file_path, \n",
    "    gene_expression_data_file_path=gene_expression_data_file_path\n",
    ")\n",
    "\n",
    "scaled_gene_expression_training_data = preprocessed_data.scaled_gene_expression_training_data\n",
    "scaled_gene_expression_testing_data = preprocessed_data.scaled_gene_expression_testing_data\n",
    "scaled_flux_training_data = preprocessed_data.scaled_flux_training_data\n",
    "scaled_flux_testing_data = preprocessed_data.scaled_flux_testing_data\n",
    "target_training_data = preprocessed_data.target_training_data\n",
    "target_testing_data = preprocessed_data.target_testing_data"
   ]
  },
  {
   "cell_type": "code",
   "execution_count": 3,
   "metadata": {},
   "outputs": [],
   "source": [
    "X_train = np.concatenate((scaled_gene_expression_training_data, scaled_flux_training_data), axis=1)\n",
    "X_test = np.concatenate((scaled_gene_expression_testing_data, scaled_flux_testing_data), axis=1)\n",
    "\n",
    "Y_train: np.ndarray = target_training_data.to_numpy()\n",
    "Y_test: np.ndarray = target_testing_data.to_numpy()\n",
    "\n",
    "# Get the indices for the groups of the fluxes and the genes\n",
    "flux_dimensions_index = scaled_flux_training_data.shape[1] - 1 #1847\n",
    "gene_dimensions_index = scaled_gene_expression_training_data.shape[1] - 1 # 6169\n",
    "\n",
    "indices_fluxes = list(np.arange(0, flux_dimensions_index + 1))\n",
    "indices_gene_expression= list(np.arange(flux_dimensions_index + 1, gene_dimensions_index + 1))"
   ]
  },
  {
   "cell_type": "code",
   "execution_count": 4,
   "metadata": {},
   "outputs": [
    {
     "name": "stdout",
     "output_type": "stream",
     "text": [
      "(12,)\n",
      "(12,)\n",
      "(12,)\n"
     ]
    }
   ],
   "source": [
    "# This section is for the hyperparameter tuning. We vary the lambda values and the intercept values. \n",
    "\n",
    "# lambda_values: np.ndarray = np.logspace(-0.6, 0.7, 12) # from 10**-0.6 to 10**0.7 (12 values)\n",
    "lambda_values: np.ndarray = np.logspace(\n",
    "    -0.6, 0.7, 12\n",
    ")  # from 10**-0.6 to 10**0.7 (12 values)\n",
    "\n",
    "\n",
    "# intercept_values: np.ndarray = np.logspace(-1.6, 0.04, 12) # from 10**-1.6 to 10**0.04 (12 values)\n",
    "intercept_values: np.ndarray = np.logspace(\n",
    "    -1.6, 0.04, 12\n",
    ")  # from 10**-1.6 to 10**0.04 (12 values)\n",
    "\n",
    "\n",
    "#  the aim is to experiment with how different levels of baseline adjustments affect the performance of the model\n",
    "lambdas_gene_expression: np.ndarray = np.repeat(\n",
    "    lambda_values, 1 * 1\n",
    ")  # 12 * 12 * 12 = 1728)\n",
    "print(lambdas_gene_expression.shape)\n",
    "\n",
    "# lambdas_fluxes: np.ndarray = np.repeat(lambda_values, len(intercept_values))  # 12 * 12 = 144\n",
    "lambdas_fluxes: np.ndarray = np.repeat(\n",
    "    lambda_values, 1\n",
    ")  # 12 * 12 = 144\n",
    "\n",
    "lambdas_fluxes: np.ndarray = np.asarray(\n",
    "    [lambdas_fluxes[:] for _ in range(1)]\n",
    ").flatten()  # (1728,)\n",
    "print(lambdas_fluxes.shape)\n",
    "\n",
    "intercepts: np.ndarray = np.asarray(\n",
    "    [intercept_values for _ in range(1** 2)]\n",
    ").flatten() # (1728,)\n",
    "print(intercepts.shape)"
   ]
  },
  {
   "cell_type": "code",
   "execution_count": 5,
   "metadata": {},
   "outputs": [],
   "source": [
    "# Here, we skip the hyperparameter tuning and go straight to the model training.\n",
    "# Define lambda value\n",
    "lambda_value = np.logspace(-0.6, 0.7, 12)[7]  # Single lambda value from the logspace array\n",
    "# Chosen arbitrarily\n",
    "\n",
    "# Define intercept value\n",
    "intercept_value = np.logspace(-1.6, 0.04, 12)[4]  # Single intercept value from the logspace array\n",
    "# Chosen arbitrarily"
   ]
  },
  {
   "cell_type": "code",
   "execution_count": 6,
   "metadata": {},
   "outputs": [
    {
     "name": "stdout",
     "output_type": "stream",
     "text": [
      "Starting process...\n"
     ]
    },
    {
     "name": "stdout",
     "output_type": "stream",
     "text": [
      "Process: 0, Lambda GE: 1.6876124757881474, Lambda MF: 1.6876124757881474, Intercept: 0.09916619195386764\n"
     ]
    },
    {
     "name": "stderr",
     "output_type": "stream",
     "text": [
      "/Users/piotrgidzinski/yeast/growth-bench/.venv/lib/python3.10/site-packages/cvxpy/problems/problem.py:158: UserWarning: Objective contains too many subexpressions. Consider vectorizing your CVXPY code to speed up compilation.\n",
      "  warnings.warn(\"Objective contains too many subexpressions. \"\n"
     ]
    },
    {
     "name": "stdout",
     "output_type": "stream",
     "text": [
      "Set parameter WLSAccessID\n",
      "Set parameter WLSSecret\n",
      "Set parameter LicenseID to value 2492909\n",
      "Academic license 2492909 - for non-commercial use only - registered to pg___@ic.ac.uk\n",
      "Process: 0, Total time in minutes: 0.9761820395787557, Train error:0.0014220422035324171, Test error: 0.010653044147426445\n",
      "Finished. Total time required (in minutes):  0.9912627339363098\n"
     ]
    }
   ],
   "source": [
    "if __name__ == \"__main__\":\n",
    "\n",
    "    start_time = time.time()\n",
    "    print(\"Starting process...\")\n",
    "\n",
    "    results = []\n",
    "    repeats = 1\n",
    "\n",
    "    with multiprocessing.Pool(multiprocessing.cpu_count()) as pool:\n",
    "        result = pool.starmap(\n",
    "            optimiser.optimise,\n",
    "            zip(\n",
    "                range(repeats),\n",
    "                itertools.repeat(lambda_value),\n",
    "                itertools.repeat(lambda_value),\n",
    "                itertools.repeat(intercept_value),\n",
    "                itertools.repeat(X_train),\n",
    "                itertools.repeat(Y_train),\n",
    "                itertools.repeat(X_test),\n",
    "                itertools.repeat(Y_test),\n",
    "                itertools.repeat(flux_dimensions_index),\n",
    "                itertools.repeat(gene_dimensions_index),\n",
    "                itertools.repeat(indices_fluxes),\n",
    "                itertools.repeat(indices_gene_expression),\n",
    "            ),\n",
    "        )\n",
    "        results.append(result)\n",
    "\n",
    "    data_lasso_dir = \"../../../data/models/lasso/\"\n",
    "    # Save the results to csv file. The results are a list of dictionaries. The headers of this file should be the keys of the dictionar\n",
    "    with open(data_lasso_dir + \"results_lasso.csv\", \"w\", newline=\"\") as f:\n",
    "        writer = csv.DictWriter(f, fieldnames=results[0][0].keys())\n",
    "        writer.writeheader()\n",
    "        for result in results[0]:\n",
    "            writer.writerow(result)\n",
    "\n",
    "    print(\n",
    "        \"Finished. Total time required (in minutes): \", (time.time() - start_time) / 60\n",
    "    )"
   ]
  },
  {
   "cell_type": "code",
   "execution_count": 7,
   "metadata": {},
   "outputs": [
    {
     "name": "stdout",
     "output_type": "stream",
     "text": [
      "len(beta_ge):  1848\n",
      "len(beta_mf):  6170\n"
     ]
    }
   ],
   "source": [
    "# assuming results contains one solution for one set of parameters\n",
    "beta_ge = results[0][0][\"beta_ge\"]\n",
    "beta_mf = results[0][0][\"beta_mf\"]\n",
    "print(\"len(beta_ge): \", len(beta_ge)) # 1848\n",
    "print(\"len(beta_mf): \", len(beta_mf)) # 6170"
   ]
  },
  {
   "cell_type": "code",
   "execution_count": 8,
   "metadata": {},
   "outputs": [],
   "source": [
    "# save beta_ge to csv file (as one column)\n",
    "with open(data_lasso_dir + \"gene_expression_coefficients.csv\", \"w\", newline=\"\") as f:\n",
    "    writer = csv.writer(f)\n",
    "    for val in beta_ge:\n",
    "        writer.writerow([val])\n",
    "\n",
    "# save beta_mf to csv file (as one column)\n",
    "with open(data_lasso_dir + \"flux_coefficients.csv\", \"w\", newline=\"\") as f:\n",
    "    writer = csv.writer(f)\n",
    "    for val in beta_mf:\n",
    "        writer.writerow([val])"
   ]
  },
  {
   "cell_type": "code",
   "execution_count": 9,
   "metadata": {},
   "outputs": [
    {
     "name": "stdout",
     "output_type": "stream",
     "text": [
      "Predictions: [ 5.20502095e-02  2.65753284e-02  5.23591454e-02  7.95331628e-02\n",
      " -1.16452325e-03  2.44080915e-01  1.46724273e-01  1.17459794e-01\n",
      "  5.20468477e-02 -3.62047878e-02  5.27491442e-02  1.65531823e-01\n",
      "  4.51904792e-02  2.46580635e-02  3.52625471e-02  3.77199287e-02\n",
      " -9.61500382e-03  8.57721263e-02  5.14905977e-02 -1.81696741e-02\n",
      "  5.14908532e-02  1.54713633e-01  8.20230401e-01  9.33846215e-02\n",
      " -2.49900537e-02  1.85152674e-03 -1.06276480e-02  6.66197042e-02\n",
      " -6.41543350e-03  3.49125963e-02  9.65627208e-01 -4.81981533e-02\n",
      "  1.21016821e-02 -8.47138409e-02 -4.45064164e-02  4.61462204e-01\n",
      "  8.25136574e-01  4.78369945e-01 -3.02747533e-03  2.11782759e-01\n",
      "  5.56194087e-02 -7.49951018e-03 -7.38139894e-03  3.47553720e-02\n",
      "  1.46869481e-01  1.08874005e-02  3.19530819e-02 -1.89071506e-02\n",
      "  1.06660607e-01  3.32507645e-01  4.01327759e-02 -2.93273590e-02\n",
      "  2.13753433e-02  4.06401439e-02  4.62159747e-01  3.94018936e-02\n",
      "  4.76601798e-01  6.65881878e-03  5.27232284e-02  3.73422938e-02\n",
      "  9.73887782e-03 -5.28642628e-02  8.38058230e-02  2.75576372e-02\n",
      "  6.59085087e-02  6.33530942e-02  2.33081952e-01  1.59274896e-01\n",
      "  1.00471575e-02  9.90044867e-02 -4.40139232e-02  1.01379865e+00\n",
      "  2.06471013e-01  3.32839749e-02  3.10711559e-02  6.48650970e-02\n",
      "  7.23570881e-02 -2.35521240e-02  2.66247947e-02  2.27614123e-01\n",
      "  7.28805404e-02  6.60152806e-03 -5.53349785e-03  6.67531264e-02\n",
      "  4.48724758e-01  3.40185820e-02 -8.34768208e-02 -2.33828201e-02\n",
      "  1.00022906e-02 -3.78297258e-02  1.48464290e-02  1.44570662e-02\n",
      " -7.31699243e-03  3.12576256e-01  2.73169628e-01  2.79482790e-01\n",
      "  4.44923267e-03  8.12183471e-02  8.55609967e-01  1.43815009e-01\n",
      " -5.20834776e-03  3.86666183e-02  1.28534578e-02  5.04367786e-01\n",
      "  3.76629306e-02  3.82304571e-03  1.34996374e-01  1.83755921e-01\n",
      "  3.51614105e-03  8.63136494e-02  6.67910970e-02  1.65253229e-01\n",
      " -3.33617243e-02  2.35221222e-03  1.24505649e-01  5.82100122e-02\n",
      "  4.53388318e-03  3.22398872e-02  4.61444860e-01 -4.01365126e-03\n",
      " -7.42770218e-03  3.84215357e-01  6.48148822e-02 -3.03595466e-02\n",
      "  2.61046042e-01 -5.00157725e-02  8.07671092e-02 -5.43233483e-02\n",
      "  8.45296079e-02  5.50797188e-02  4.79364402e-03  2.52733611e-02\n",
      " -2.45307375e-02 -5.55793069e-02  3.61937528e-02  1.74948343e-01\n",
      "  1.34705043e-01  3.86870429e-02  1.72428329e-01 -2.76690123e-02\n",
      "  6.97419138e-04  1.83197114e-02  2.80920906e-02  1.40470616e-01\n",
      "  1.41592291e-01  1.23132648e-02  9.53933536e-02 -1.22340635e-01\n",
      " -2.15056545e-02  7.50471307e-01 -3.17452591e-02  4.88346569e-02\n",
      "  1.10970203e+00  3.00018855e-01  4.12206111e-03  5.35635834e-02\n",
      "  1.19494227e-02 -4.05318098e-02  4.34606931e-02 -5.44398690e-02\n",
      "  4.31042501e-01 -2.06282424e-02  2.48187072e-02 -6.75084511e-02\n",
      "  4.98783617e-02  1.26718770e-01  5.27703711e-02  1.56272321e-02\n",
      "  2.44376991e-01  4.35304021e-02  5.06407128e-02  1.70599125e-01\n",
      "  4.82307326e-01  3.76084224e-02  7.55624419e-02  1.76495159e-01\n",
      " -6.52762485e-03  1.42705046e-01  5.92066388e-02 -2.01573332e-02\n",
      " -6.79025594e-02 -1.23841408e-02  8.15762733e-02  9.31913234e-02\n",
      "  3.06215179e-01 -6.08259524e-02  4.02325868e-03  1.13211143e-01\n",
      "  3.35205154e-01  4.61091602e-01 -4.52423633e-02  6.72939170e-02\n",
      "  1.02246404e-02 -1.46521495e-02 -1.88654176e-02  5.02707035e-02\n",
      " -2.37031328e-03  3.72605879e-02  2.30827525e-02  1.12311807e-01\n",
      " -1.69374353e-02  3.65214844e-01  2.51404424e-02  1.38035966e-01\n",
      "  3.82292828e-02 -3.03961143e-02  2.87187251e-02  4.07808673e-03\n",
      " -2.63375822e-02 -6.87715168e-03  1.88100255e-01  2.13106997e-02\n",
      "  5.00958358e-02 -4.57549357e-03  2.14053055e-02 -1.70826804e-02\n",
      "  2.73028931e-02  1.90178647e-01 -1.25554730e-02  3.66028558e-01\n",
      "  8.47156325e-02  4.14712909e-02  2.16881122e-02  1.62039460e-03\n",
      "  3.45562406e-02  6.74385663e-02  1.43133076e-02  5.75881775e-02]\n"
     ]
    }
   ],
   "source": [
    "# Assume beta_gene_expression.value and beta_fluxes.value hold the optimal values from the optimization.\n",
    "# Also, assume intercept_param.value holds the optimal intercept value.\n",
    "\n",
    "# Function to make predictions with a linear model\n",
    "def predict(X_data: np.ndarray, beta_gene_expression: list[float], beta_fluxes: list[float], intercept: int) -> np.ndarray:\n",
    "    \"\"\"Make predictions with a linear model.\n",
    "\n",
    "    Parameters\n",
    "    ----------\n",
    "    X_data : np.ndarray\n",
    "        Data matrix.\n",
    "    beta_gene_expression : list[float]\n",
    "        Coefficients for gene expression data.\n",
    "    beta_fluxes : list[float]\n",
    "        Coefficients for flux data.\n",
    "    intercept : int\n",
    "        Intercept value.\n",
    "\n",
    "    Returns\n",
    "    -------\n",
    "    np.ndarray\n",
    "        Predictions.\n",
    "    \"\"\"\n",
    "    # Combine gene expression and flux coefficients\n",
    "    beta = np.hstack([beta_gene_expression, beta_fluxes])\n",
    "\n",
    "    # Compute predictions: X_new.dot(beta) + intercept\n",
    "    predictions = X_data.dot(beta) + intercept\n",
    "    return predictions\n",
    "\n",
    "# Make predictions\n",
    "predictions = predict(\n",
    "    X_data=X_test, beta_gene_expression=beta_ge, beta_fluxes=beta_mf, intercept=intercept_value\n",
    ")\n",
    "\n",
    "print(\"Predictions:\", predictions)"
   ]
  }
 ],
 "metadata": {
  "kernelspec": {
   "display_name": "lasso_env",
   "language": "python",
   "name": "python3"
  },
  "language_info": {
   "codemirror_mode": {
    "name": "ipython",
    "version": 3
   },
   "file_extension": ".py",
   "mimetype": "text/x-python",
   "name": "python",
   "nbconvert_exporter": "python",
   "pygments_lexer": "ipython3",
   "version": "3.10.2"
  }
 },
 "nbformat": 4,
 "nbformat_minor": 2
}
